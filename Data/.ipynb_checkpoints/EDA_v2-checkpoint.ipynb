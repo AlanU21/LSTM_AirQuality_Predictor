{
 "cells": [
  {
   "cell_type": "code",
   "execution_count": 1,
   "id": "166aa96f-bfc7-4c9c-a790-e70211b7e011",
   "metadata": {},
   "outputs": [],
   "source": [
    "import pandas as pd"
   ]
  },
  {
   "cell_type": "code",
   "execution_count": 2,
   "id": "72297c63-c398-45e4-a73f-5a43f0bed5a8",
   "metadata": {},
   "outputs": [
    {
     "name": "stdout",
     "output_type": "stream",
     "text": [
      "<class 'pandas.core.frame.DataFrame'>\n",
      "RangeIndex: 7312 entries, 0 to 7311\n",
      "Data columns (total 29 columns):\n",
      " #   Column         Non-Null Count  Dtype         \n",
      "---  ------         --------------  -----         \n",
      " 0   Unnamed: 0     7312 non-null   int64         \n",
      " 1   Timestamp      7312 non-null   datetime64[ns]\n",
      " 2   pm25_1         7312 non-null   float64       \n",
      " 3   pm25_2         7312 non-null   float64       \n",
      " 4   pm25_3         7312 non-null   float64       \n",
      " 5   pm25_AVERAGE   7312 non-null   float64       \n",
      " 6   pm10           7312 non-null   int64         \n",
      " 7   hour           7312 non-null   int64         \n",
      " 8   day_of_week    7312 non-null   int64         \n",
      " 9   month          7312 non-null   int64         \n",
      " 10  pm25_24hr_avg  7289 non-null   float64       \n",
      " 11  pm10_24hr_avg  7289 non-null   float64       \n",
      " 12  pm25_lag1      7311 non-null   float64       \n",
      " 13  pm10_lag1      7311 non-null   float64       \n",
      " 14  pm25_change    7311 non-null   float64       \n",
      " 15  pm10_change    7311 non-null   float64       \n",
      " 16  temp           7312 non-null   float64       \n",
      " 17  visibility     7312 non-null   float64       \n",
      " 18  dew_point      7312 non-null   float64       \n",
      " 19  temp_min       7312 non-null   float64       \n",
      " 20  temp_max       7312 non-null   float64       \n",
      " 21  pressure       7312 non-null   int64         \n",
      " 22  humidity       7312 non-null   int64         \n",
      " 23  wind_speed     7312 non-null   float64       \n",
      " 24  wind_deg       7312 non-null   int64         \n",
      " 25  wind_gust      7312 non-null   float64       \n",
      " 26  rain_1h        7312 non-null   float64       \n",
      " 27  AQI_pm25       7312 non-null   object        \n",
      " 28  AQI_pm10       7312 non-null   object        \n",
      "dtypes: datetime64[ns](1), float64(18), int64(8), object(2)\n",
      "memory usage: 1.6+ MB\n"
     ]
    }
   ],
   "source": [
    "df = pd.read_excel(\"FINAL_data.xlsx\")\n",
    "\n",
    "df.info()"
   ]
  },
  {
   "cell_type": "code",
   "execution_count": null,
   "id": "ec63b00a-5678-4fce-82db-fcaae2e2d4b9",
   "metadata": {},
   "outputs": [],
   "source": [
    "import seaborn as sns\n",
    "import matplotlib.pyplot as plt\n",
    "\n",
    "correlation_matrix = df.corr()\n",
    "\n",
    "plt.figure(figsize=(20, 16))\n",
    "sns.heatmap(correlation_matrix, annot=True, cmap='coolwarm', fmt=\".2f\")\n",
    "plt.title('Correlation Matrix')\n",
    "plt.show()"
   ]
  }
 ],
 "metadata": {
  "kernelspec": {
   "display_name": "Python 3 (ipykernel)",
   "language": "python",
   "name": "python3"
  },
  "language_info": {
   "codemirror_mode": {
    "name": "ipython",
    "version": 3
   },
   "file_extension": ".py",
   "mimetype": "text/x-python",
   "name": "python",
   "nbconvert_exporter": "python",
   "pygments_lexer": "ipython3",
   "version": "3.8.16"
  }
 },
 "nbformat": 4,
 "nbformat_minor": 5
}
