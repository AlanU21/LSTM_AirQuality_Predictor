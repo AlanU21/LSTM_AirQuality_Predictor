{
 "cells": [
  {
   "cell_type": "code",
   "execution_count": 1,
   "id": "e0f9d4a2-7eb6-4b41-aa70-78b020c1468e",
   "metadata": {},
   "outputs": [],
   "source": [
    "import pandas as pd"
   ]
  },
  {
   "cell_type": "code",
   "execution_count": 2,
   "id": "31ea4537-40de-4cf9-b147-5b7732273728",
   "metadata": {},
   "outputs": [
    {
     "name": "stdout",
     "output_type": "stream",
     "text": [
      "<class 'pandas.core.frame.DataFrame'>\n",
      "RangeIndex: 7312 entries, 0 to 7311\n",
      "Data columns (total 3 columns):\n",
      " #   Column     Non-Null Count  Dtype  \n",
      "---  ------     --------------  -----  \n",
      " 0   Timestamp  7312 non-null   object \n",
      " 1   pm25       7312 non-null   float64\n",
      " 2   pm10       7312 non-null   int64  \n",
      "dtypes: float64(1), int64(1), object(1)\n",
      "memory usage: 171.5+ KB\n",
      "None\n",
      "\n",
      "\n",
      "                   Timestamp  pm25  pm10\n",
      "0  2023-01-01T01:00:00+00:00   6.2    12\n",
      "1  2023-01-01T02:00:00+00:00   6.7    12\n",
      "2  2023-01-01T03:00:00+00:00   7.6    14\n",
      "3  2023-01-01T04:00:00+00:00   7.7    15\n",
      "4  2023-01-01T05:00:00+00:00   9.1    27\n",
      "\n",
      "\n",
      "              pm25         pm10\n",
      "count  7312.000000  7312.000000\n",
      "mean     11.444680    22.100793\n",
      "std       9.199497    25.181450\n",
      "min       0.000000     1.000000\n",
      "25%       6.100000    12.000000\n",
      "50%       9.100000    17.000000\n",
      "75%      14.200000    26.000000\n",
      "max     140.500000   666.000000\n"
     ]
    }
   ],
   "source": [
    "df = pd.read_excel('initial_air_quality_data.xlsx')\n",
    "\n",
    "print(df.info())\n",
    "print(\"\\n\")\n",
    "print(df.head())\n",
    "print(\"\\n\")\n",
    "print(df.describe())"
   ]
  },
  {
   "cell_type": "code",
   "execution_count": 3,
   "id": "3edf3294-c956-4dc7-b9c8-62811545ad0c",
   "metadata": {},
   "outputs": [
    {
     "name": "stdout",
     "output_type": "stream",
     "text": [
      "            Timestamp  pm25  pm10\n",
      "0 2023-01-01 01:00:00   6.2    12\n",
      "1 2023-01-01 02:00:00   6.7    12\n",
      "2 2023-01-01 03:00:00   7.6    14\n",
      "3 2023-01-01 04:00:00   7.7    15\n",
      "4 2023-01-01 05:00:00   9.1    27\n"
     ]
    }
   ],
   "source": [
    "df['Timestamp'] = pd.to_datetime(df['Timestamp'], utc=True)\n",
    "df['Timestamp'] = df['Timestamp'].dt.tz_localize(None)\n",
    "\n",
    "print(df.head())"
   ]
  },
  {
   "cell_type": "code",
   "execution_count": 4,
   "id": "7ee360d7-ee57-4dee-810e-5560fbd93416",
   "metadata": {},
   "outputs": [
    {
     "name": "stdout",
     "output_type": "stream",
     "text": [
      "            Timestamp  pm25  pm10  pm25_24hr_avg  pm10_24hr_avg\n",
      "0 2023-01-01 01:00:00   6.2    12            NaN            NaN\n",
      "1 2023-01-01 02:00:00   6.7    12            NaN            NaN\n",
      "2 2023-01-01 03:00:00   7.6    14            NaN            NaN\n",
      "3 2023-01-01 04:00:00   7.7    15            NaN            NaN\n",
      "4 2023-01-01 05:00:00   9.1    27            NaN            NaN\n"
     ]
    }
   ],
   "source": [
    "df['pm25_24hr_avg'] = df['pm25'].rolling(window=24).mean()\n",
    "df['pm10_24hr_avg'] = df['pm10'].rolling(window=24).mean()\n",
    "\n",
    "print(df.head())"
   ]
  },
  {
   "cell_type": "code",
   "execution_count": 5,
   "id": "c023c64d-2edb-4890-b717-200ef3897064",
   "metadata": {},
   "outputs": [
    {
     "name": "stdout",
     "output_type": "stream",
     "text": [
      "            Timestamp  pm25  pm10  pm25_24hr_avg  pm10_24hr_avg  pm25_lag1  \\\n",
      "0 2023-01-01 01:00:00   6.2    12            NaN            NaN        NaN   \n",
      "1 2023-01-01 02:00:00   6.7    12            NaN            NaN        6.2   \n",
      "2 2023-01-01 03:00:00   7.6    14            NaN            NaN        6.7   \n",
      "3 2023-01-01 04:00:00   7.7    15            NaN            NaN        7.6   \n",
      "4 2023-01-01 05:00:00   9.1    27            NaN            NaN        7.7   \n",
      "\n",
      "   pm10_lag1  \n",
      "0        NaN  \n",
      "1       12.0  \n",
      "2       12.0  \n",
      "3       14.0  \n",
      "4       15.0  \n"
     ]
    }
   ],
   "source": [
    "df['pm25_lag1'] = df['pm25'].shift(1)\n",
    "df['pm10_lag1'] = df['pm10'].shift(1)\n",
    "\n",
    "print(df.head())"
   ]
  },
  {
   "cell_type": "code",
   "execution_count": 6,
   "id": "a8a39dc9-6e4b-46d1-940f-a92669f5ac7e",
   "metadata": {},
   "outputs": [
    {
     "name": "stdout",
     "output_type": "stream",
     "text": [
      "            Timestamp  pm25  pm10  pm25_24hr_avg  pm10_24hr_avg  pm25_lag1  \\\n",
      "0 2023-01-01 01:00:00   6.2    12            NaN            NaN        NaN   \n",
      "1 2023-01-01 02:00:00   6.7    12            NaN            NaN        6.2   \n",
      "2 2023-01-01 03:00:00   7.6    14            NaN            NaN        6.7   \n",
      "3 2023-01-01 04:00:00   7.7    15            NaN            NaN        7.6   \n",
      "4 2023-01-01 05:00:00   9.1    27            NaN            NaN        7.7   \n",
      "\n",
      "   pm10_lag1  pm25_change  pm10_change  \n",
      "0        NaN          NaN          NaN  \n",
      "1       12.0          0.5          0.0  \n",
      "2       12.0          0.9          2.0  \n",
      "3       14.0          0.1          1.0  \n",
      "4       15.0          1.4         12.0  \n",
      "<class 'pandas.core.frame.DataFrame'>\n",
      "RangeIndex: 7312 entries, 0 to 7311\n",
      "Data columns (total 9 columns):\n",
      " #   Column         Non-Null Count  Dtype         \n",
      "---  ------         --------------  -----         \n",
      " 0   Timestamp      7312 non-null   datetime64[ns]\n",
      " 1   pm25           7312 non-null   float64       \n",
      " 2   pm10           7312 non-null   int64         \n",
      " 3   pm25_24hr_avg  7289 non-null   float64       \n",
      " 4   pm10_24hr_avg  7289 non-null   float64       \n",
      " 5   pm25_lag1      7311 non-null   float64       \n",
      " 6   pm10_lag1      7311 non-null   float64       \n",
      " 7   pm25_change    7311 non-null   float64       \n",
      " 8   pm10_change    7311 non-null   float64       \n",
      "dtypes: datetime64[ns](1), float64(7), int64(1)\n",
      "memory usage: 514.2 KB\n",
      "None\n"
     ]
    }
   ],
   "source": [
    "df['pm25_change'] = df['pm25'].diff()\n",
    "df['pm10_change'] = df['pm10'].diff()\n",
    "\n",
    "print(df.head())\n",
    "print(df.info())"
   ]
  },
  {
   "cell_type": "code",
   "execution_count": 7,
   "id": "0e378bac-4e5a-4a27-9c50-0c3528009b80",
   "metadata": {},
   "outputs": [
    {
     "name": "stdout",
     "output_type": "stream",
     "text": [
      "<class 'pandas.core.frame.DataFrame'>\n",
      "RangeIndex: 9216 entries, 0 to 9215\n",
      "Data columns (total 10 columns):\n",
      " #   Column      Non-Null Count  Dtype  \n",
      "---  ------      --------------  -----  \n",
      " 0   dt_iso      9216 non-null   object \n",
      " 1   temp        9216 non-null   float64\n",
      " 2   visibility  8585 non-null   float64\n",
      " 3   dew_point   9216 non-null   float64\n",
      " 4   temp_min    9216 non-null   float64\n",
      " 5   temp_max    9216 non-null   float64\n",
      " 6   pressure    9216 non-null   int64  \n",
      " 7   humidity    9216 non-null   int64  \n",
      " 8   wind_speed  9216 non-null   float64\n",
      " 9   wind_gust   2507 non-null   float64\n",
      "dtypes: float64(7), int64(2), object(1)\n",
      "memory usage: 720.1+ KB\n",
      "None\n"
     ]
    }
   ],
   "source": [
    "weather = pd.read_excel('initial_weather_data.xlsx')\n",
    "print(weather.info())"
   ]
  },
  {
   "cell_type": "code",
   "execution_count": 8,
   "id": "f6e8441d-c1f3-43bb-9c73-a116a78f6672",
   "metadata": {},
   "outputs": [
    {
     "name": "stdout",
     "output_type": "stream",
     "text": [
      "<class 'pandas.core.frame.DataFrame'>\n",
      "Int64Index: 8784 entries, 0 to 9215\n",
      "Data columns (total 10 columns):\n",
      " #   Column      Non-Null Count  Dtype  \n",
      "---  ------      --------------  -----  \n",
      " 0   dt_iso      8784 non-null   object \n",
      " 1   temp        8784 non-null   float64\n",
      " 2   visibility  8784 non-null   float64\n",
      " 3   dew_point   8784 non-null   float64\n",
      " 4   temp_min    8784 non-null   float64\n",
      " 5   temp_max    8784 non-null   float64\n",
      " 6   pressure    8784 non-null   int64  \n",
      " 7   humidity    8784 non-null   int64  \n",
      " 8   wind_speed  8784 non-null   float64\n",
      " 9   wind_gust   8784 non-null   float64\n",
      "dtypes: float64(7), int64(2), object(1)\n",
      "memory usage: 754.9+ KB\n",
      "None\n"
     ]
    }
   ],
   "source": [
    "weather = weather.drop_duplicates(subset='dt_iso', keep='first')\n",
    "\n",
    "weather['visibility'].interpolate(method='linear', limit_direction='both', inplace=True)\n",
    "weather['wind_gust'].fillna(0, inplace=True)\n",
    "\n",
    "print(weather.info())"
   ]
  },
  {
   "cell_type": "code",
   "execution_count": 9,
   "id": "6cff58c1-f9b9-41fc-9298-444a34e3eff7",
   "metadata": {},
   "outputs": [
    {
     "name": "stdout",
     "output_type": "stream",
     "text": [
      "              temp    visibility    dew_point     temp_min     temp_max  \\\n",
      "count  8784.000000   8784.000000  8784.000000  8784.000000  8784.000000   \n",
      "mean     14.708678   9654.896175     8.263587    13.351315    15.449374   \n",
      "std       8.665596   1407.822603     8.809159     8.630062     8.754497   \n",
      "min      -9.688889    201.000000   -19.888889   -11.111111    -8.961111   \n",
      "25%       7.469444  10000.000000     0.977778     6.200000     8.161111   \n",
      "50%      14.350000  10000.000000     8.438889    13.211111    15.061111   \n",
      "75%      21.877778  10000.000000    15.473611    20.511111    22.772222   \n",
      "max      35.700000  10000.000000    24.938889    34.772222    36.722222   \n",
      "\n",
      "          pressure     humidity   wind_speed    wind_gust  \n",
      "count  8784.000000  8784.000000  8784.000000  8784.000000  \n",
      "mean   1016.029485    67.419854     8.126869     3.266217  \n",
      "std       7.751399    18.281091     5.007111     8.002014  \n",
      "min     986.000000    18.000000     0.000000     0.000000  \n",
      "25%    1011.000000    53.000000     4.610000     0.000000  \n",
      "50%    1016.000000    68.000000     6.930000     0.000000  \n",
      "75%    1021.000000    83.000000    11.410000     0.000000  \n",
      "max    1040.000000    99.000000    32.210000    47.180000  \n"
     ]
    }
   ],
   "source": [
    "weather['temp'] = (weather['temp'] - 32) * 5.0/9.0\n",
    "weather['temp_min'] = (weather['temp_min'] - 32) * 5.0/9.0\n",
    "weather['temp_max'] = (weather['temp_max'] - 32) * 5.0/9.0\n",
    "weather['dew_point'] = (weather['dew_point'] - 32) * 5.0/9.0\n",
    "\n",
    "print(weather.describe())"
   ]
  },
  {
   "cell_type": "code",
   "execution_count": 10,
   "id": "6944444e-52cd-4f00-ac25-5d4a13f47adf",
   "metadata": {},
   "outputs": [
    {
     "name": "stdout",
     "output_type": "stream",
     "text": [
      "<class 'pandas.core.frame.DataFrame'>\n",
      "Int64Index: 7312 entries, 1 to 9192\n",
      "Data columns (total 10 columns):\n",
      " #   Column      Non-Null Count  Dtype         \n",
      "---  ------      --------------  -----         \n",
      " 0   dt_iso      7312 non-null   datetime64[ns]\n",
      " 1   temp        7312 non-null   float64       \n",
      " 2   visibility  7312 non-null   float64       \n",
      " 3   dew_point   7312 non-null   float64       \n",
      " 4   temp_min    7312 non-null   float64       \n",
      " 5   temp_max    7312 non-null   float64       \n",
      " 6   pressure    7312 non-null   int64         \n",
      " 7   humidity    7312 non-null   int64         \n",
      " 8   wind_speed  7312 non-null   float64       \n",
      " 9   wind_gust   7312 non-null   float64       \n",
      "dtypes: datetime64[ns](1), float64(7), int64(2)\n",
      "memory usage: 628.4 KB\n",
      "None\n",
      "               dt_iso       temp  visibility  dew_point   temp_min   temp_max  \\\n",
      "1 2023-01-01 01:00:00  12.127778      6437.0  11.188889  10.938889  13.277778   \n",
      "3 2023-01-01 02:00:00  12.227778      6437.0  11.288889  11.038889  12.877778   \n",
      "4 2023-01-01 03:00:00  11.922222      1609.0  11.150000  10.938889  12.600000   \n",
      "6 2023-01-01 04:00:00  11.722222      6437.0  10.950000  10.938889  12.600000   \n",
      "8 2023-01-01 05:00:00  11.727778       805.0  10.800000  10.988889  12.311111   \n",
      "\n",
      "   pressure  humidity  wind_speed  wind_gust  \n",
      "1      1010        94        4.70        0.0  \n",
      "3      1010        94        8.05        0.0  \n",
      "4      1010        95        5.82        0.0  \n",
      "6      1009        95        5.82        0.0  \n",
      "8      1009        94        5.82        0.0  \n",
      "Index(['dt_iso', 'temp', 'visibility', 'dew_point', 'temp_min', 'temp_max',\n",
      "       'pressure', 'humidity', 'wind_speed', 'wind_gust'],\n",
      "      dtype='object')\n"
     ]
    }
   ],
   "source": [
    "weather['dt_iso'] = weather['dt_iso'].astype(str)\n",
    "weather['dt_iso'] = weather['dt_iso'].str.slice(start=0, stop=19)\n",
    "weather['dt_iso'] = weather['dt_iso'].apply(lambda x: pd.to_datetime(x))\n",
    "\n",
    "\n",
    "matched = weather[weather['dt_iso'].isin(df['Timestamp'])]\n",
    "\n",
    "print(matched.info())\n",
    "print(matched.head())\n",
    "print(matched.columns)"
   ]
  },
  {
   "cell_type": "code",
   "execution_count": 11,
   "id": "d0b9e306-da0d-4fa6-bcc0-20d21dbace71",
   "metadata": {},
   "outputs": [
    {
     "name": "stdout",
     "output_type": "stream",
     "text": [
      "<class 'pandas.core.frame.DataFrame'>\n",
      "RangeIndex: 7288 entries, 24 to 7311\n",
      "Data columns (total 18 columns):\n",
      " #   Column         Non-Null Count  Dtype         \n",
      "---  ------         --------------  -----         \n",
      " 0   Timestamp      7288 non-null   datetime64[ns]\n",
      " 1   pm25           7288 non-null   float64       \n",
      " 2   pm10           7288 non-null   int64         \n",
      " 3   pm25_24hr_avg  7288 non-null   float64       \n",
      " 4   pm10_24hr_avg  7288 non-null   float64       \n",
      " 5   pm25_lag1      7288 non-null   float64       \n",
      " 6   pm10_lag1      7288 non-null   float64       \n",
      " 7   pm25_change    7288 non-null   float64       \n",
      " 8   pm10_change    7288 non-null   float64       \n",
      " 9   temp           7288 non-null   float64       \n",
      " 10  visibility     7288 non-null   float64       \n",
      " 11  dew_point      7288 non-null   float64       \n",
      " 12  temp_min       7288 non-null   float64       \n",
      " 13  temp_max       7288 non-null   float64       \n",
      " 14  pressure       7288 non-null   int64         \n",
      " 15  humidity       7288 non-null   int64         \n",
      " 16  wind_speed     7288 non-null   float64       \n",
      " 17  wind_gust      7288 non-null   float64       \n",
      "dtypes: datetime64[ns](1), float64(14), int64(3)\n",
      "memory usage: 1.0 MB\n",
      "None\n"
     ]
    }
   ],
   "source": [
    "matched = matched.drop(columns=['dt_iso'])\n",
    "combined = pd.concat([df, matched.reset_index(drop=True)], axis=1)\n",
    "combined = combined[24:]\n",
    "\n",
    "print(combined.info())"
   ]
  },
  {
   "cell_type": "code",
   "execution_count": 12,
   "id": "4831060d-9925-4f10-a1d9-07b907445600",
   "metadata": {},
   "outputs": [
    {
     "name": "stdout",
     "output_type": "stream",
     "text": [
      "<class 'pandas.core.frame.DataFrame'>\n",
      "RangeIndex: 7288 entries, 24 to 7311\n",
      "Data columns (total 18 columns):\n",
      " #   Column         Non-Null Count  Dtype         \n",
      "---  ------         --------------  -----         \n",
      " 0   Timestamp      7288 non-null   datetime64[ns]\n",
      " 1   pm25           7288 non-null   float32       \n",
      " 2   pm10           7288 non-null   float32       \n",
      " 3   pm25_24hr_avg  7288 non-null   float32       \n",
      " 4   pm10_24hr_avg  7288 non-null   float32       \n",
      " 5   pm25_lag1      7288 non-null   float32       \n",
      " 6   pm10_lag1      7288 non-null   float32       \n",
      " 7   pm25_change    7288 non-null   float32       \n",
      " 8   pm10_change    7288 non-null   float32       \n",
      " 9   temp           7288 non-null   float32       \n",
      " 10  visibility     7288 non-null   float32       \n",
      " 11  dew_point      7288 non-null   float32       \n",
      " 12  temp_min       7288 non-null   float32       \n",
      " 13  temp_max       7288 non-null   float32       \n",
      " 14  pressure       7288 non-null   float32       \n",
      " 15  humidity       7288 non-null   float32       \n",
      " 16  wind_speed     7288 non-null   float32       \n",
      " 17  wind_gust      7288 non-null   float32       \n",
      "dtypes: datetime64[ns](1), float32(17)\n",
      "memory usage: 541.0 KB\n",
      "None\n"
     ]
    }
   ],
   "source": [
    "to_convert = combined.drop(columns=['Timestamp']).columns\n",
    "\n",
    "combined[to_convert] = combined[to_convert].astype('float32')\n",
    "\n",
    "print(combined.info())"
   ]
  },
  {
   "cell_type": "code",
   "execution_count": 13,
   "id": "3b661c9f-8ac1-43a1-b062-ce49c3335260",
   "metadata": {},
   "outputs": [],
   "source": [
    "combined.to_excel('unnormalized_data.xlsx')"
   ]
  },
  {
   "cell_type": "code",
   "execution_count": 14,
   "id": "5eb02a00-3afb-47cb-adca-1c1d6dbcda72",
   "metadata": {},
   "outputs": [
    {
     "name": "stdout",
     "output_type": "stream",
     "text": [
      "             Timestamp      pm25      pm10  pm25_24hr_avg  pm10_24hr_avg  \\\n",
      "24 2023-01-02 01:00:00  0.081851  0.043609       0.108707       0.039980   \n",
      "25 2023-01-02 02:00:00  0.094662  0.040602       0.112416       0.042017   \n",
      "26 2023-01-02 03:00:00  0.093950  0.039098       0.115564       0.043672   \n",
      "27 2023-01-02 04:00:00  0.095374  0.031579       0.118768       0.044563   \n",
      "28 2023-01-02 05:00:00  0.108897  0.031579       0.122253       0.043927   \n",
      "\n",
      "    pm25_lag1  pm10_lag1  pm25_change  pm10_change      temp  visibility  \\\n",
      "24   0.081851   0.036090     0.369333     0.350835  0.288519         1.0   \n",
      "25   0.081851   0.043609     0.381333     0.334129  0.294309         1.0   \n",
      "26   0.094662   0.040602     0.368667     0.336516  0.296145         1.0   \n",
      "27   0.093950   0.039098     0.370667     0.326969  0.300664         1.0   \n",
      "28   0.095374   0.031579     0.382000     0.338902  0.288519         1.0   \n",
      "\n",
      "    dew_point  temp_min  temp_max  pressure  humidity  wind_speed  wind_gust  \n",
      "24   0.450749  0.269285  0.321176  0.574074  0.716049    0.033700   0.044350  \n",
      "25   0.461406  0.262272  0.304257  0.574074  0.728395    0.194194   0.000000  \n",
      "26   0.467886  0.269285  0.321176  0.574074  0.740741    0.156824   0.000000  \n",
      "27   0.477247  0.283170  0.307308  0.592592  0.753086    0.033700   0.089146  \n",
      "28   0.478975  0.269285  0.300790  0.592592  0.790123    0.066400   0.133497  \n"
     ]
    }
   ],
   "source": [
    "import numpy as np\n",
    "from sklearn.preprocessing import MinMaxScaler\n",
    "\n",
    "scaler = MinMaxScaler()\n",
    "vals = scaler.fit_transform(combined[to_convert])\n",
    "combined[to_convert] = scaler.fit_transform(combined[to_convert])\n",
    "\n",
    "print(combined.head())"
   ]
  },
  {
   "cell_type": "code",
   "execution_count": 15,
   "id": "d024130a-2adf-4ac9-b7f2-7584cc7cfdb7",
   "metadata": {},
   "outputs": [
    {
     "name": "stdout",
     "output_type": "stream",
     "text": [
      "<class 'pandas.core.frame.DataFrame'>\n",
      "RangeIndex: 8736 entries, 0 to 8735\n",
      "Data columns (total 18 columns):\n",
      " #   Column         Non-Null Count  Dtype         \n",
      "---  ------         --------------  -----         \n",
      " 0   Timestamp      8736 non-null   datetime64[ns]\n",
      " 1   pm25           8736 non-null   float32       \n",
      " 2   pm10           8736 non-null   float32       \n",
      " 3   pm25_24hr_avg  8736 non-null   float32       \n",
      " 4   pm10_24hr_avg  8736 non-null   float32       \n",
      " 5   pm25_lag1      8736 non-null   float32       \n",
      " 6   pm10_lag1      8736 non-null   float32       \n",
      " 7   pm25_change    8736 non-null   float32       \n",
      " 8   pm10_change    8736 non-null   float32       \n",
      " 9   temp           8736 non-null   float32       \n",
      " 10  visibility     8736 non-null   float32       \n",
      " 11  dew_point      8736 non-null   float32       \n",
      " 12  temp_min       8736 non-null   float32       \n",
      " 13  temp_max       8736 non-null   float32       \n",
      " 14  pressure       8736 non-null   float32       \n",
      " 15  humidity       8736 non-null   float32       \n",
      " 16  wind_speed     8736 non-null   float32       \n",
      " 17  wind_gust      8736 non-null   float32       \n",
      "dtypes: datetime64[ns](1), float32(17)\n",
      "memory usage: 648.5 KB\n",
      "None\n"
     ]
    }
   ],
   "source": [
    "combined.sort_values('Timestamp', inplace=True)\n",
    "full_range = pd.date_range(start=combined['Timestamp'].min(), end=combined['Timestamp'].max(), freq='H')\n",
    "\n",
    "combined.set_index('Timestamp', inplace=True)\n",
    "combined = combined.reindex(full_range, fill_value=0.0).reset_index().rename(columns={'index': 'Timestamp'})\n",
    "\n",
    "print(combined.info())"
   ]
  },
  {
   "cell_type": "code",
   "execution_count": 16,
   "id": "9fdba440-b409-41dd-b295-3ada64ef6c08",
   "metadata": {},
   "outputs": [],
   "source": [
    "combined.to_excel('FINAL_data.xlsx', index=False)"
   ]
  }
 ],
 "metadata": {
  "kernelspec": {
   "display_name": "Python 3 (ipykernel)",
   "language": "python",
   "name": "python3"
  },
  "language_info": {
   "codemirror_mode": {
    "name": "ipython",
    "version": 3
   },
   "file_extension": ".py",
   "mimetype": "text/x-python",
   "name": "python",
   "nbconvert_exporter": "python",
   "pygments_lexer": "ipython3",
   "version": "3.8.16"
  }
 },
 "nbformat": 4,
 "nbformat_minor": 5
}
